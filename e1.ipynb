{
  "nbformat": 4,
  "nbformat_minor": 0,
  "metadata": {
    "colab": {
      "provenance": []
    },
    "kernelspec": {
      "name": "python3",
      "display_name": "Python 3"
    },
    "language_info": {
      "name": "python"
    }
  },
  "cells": [
    {
      "cell_type": "code",
      "execution_count": 2,
      "metadata": {
        "colab": {
          "base_uri": "https://localhost:8080/"
        },
        "id": "KE3y8FwIpT2H",
        "outputId": "cd89db93-7b26-4cf0-8cf5-d9a714b472d2"
      },
      "outputs": [
        {
          "output_type": "stream",
          "name": "stdout",
          "text": [
            "User: What is the volume of a cylinder with radius 10 and height 20?\n",
            "LLM Function Output: {'volume': 6283.185307179587}\n",
            "Bot: The volume of the cylinder is 6283.19.\n"
          ]
        }
      ],
      "source": [
        "import openai\n",
        "import math\n",
        "\n",
        "def calculate_cylinder_volume(radius, height):\n",
        "    return math.pi * radius ** 2 * height\n",
        "\n",
        "def mock_llm_function_call(function_name, arguments):\n",
        "    if function_name == \"calculate_cylinder_volume\":\n",
        "        return {\"volume\": calculate_cylinder_volume(**arguments)}\n",
        "    else:\n",
        "        return {\"error\": \"Function not recognized\"}\n",
        "\n",
        "def main():\n",
        "    user_message = \"What is the volume of a cylinder with radius 10 and height 20?\"\n",
        "    print(f\"User: {user_message}\")\n",
        "\n",
        "    function_name = \"calculate_cylinder_volume\"\n",
        "    arguments = {\"radius\": 10, \"height\": 20}\n",
        "\n",
        "    response = mock_llm_function_call(function_name, arguments)\n",
        "    print(f\"LLM Function Output: {response}\")\n",
        "\n",
        "\n",
        "    if \"volume\" in response:\n",
        "        print(f\"Bot: The volume of the cylinder is {response['volume']:.2f}.\")\n",
        "    else:\n",
        "        print(\"Bot: Sorry, there was an error processing your request.\")\n",
        "\n",
        "if __name__ == \"__main__\":\n",
        "    main()\n"
      ]
    },
    {
      "cell_type": "code",
      "source": [],
      "metadata": {
        "id": "tHvD8VKMpVRk"
      },
      "execution_count": null,
      "outputs": []
    }
  ]
}